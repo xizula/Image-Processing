{
 "cells": [
  {
   "cell_type": "markdown",
   "id": "b9d4c799",
   "metadata": {},
   "source": [
    "### Podstawy analizy kształtu\n",
    "\n",
    "Przekształcenie obrazu do uproszczonej postaci wektorowej pozwala na analizę kształtu poszczególnych obiektów.\n",
    "OpenCV oferuje kilka gotowych narzędzi, z których tutaj skupimy się głównie na _momentach_.\n",
    "Pozostałe z nich pozostawie się do samodzielnego rozpoznania w miarę potrzeb - szczególnie polecam [ten przewodnik](https://docs.opencv.org/4.x/dd/d49/tutorial_py_contour_features.html).\n",
    "\n",
    "_Moment_ w matematyce jest to wielkość charakteryzująca w jakiś sposób kształt wykresu funkcji.\n",
    "A ponieważ obraz jest niczym innym jak funkcją dwóch zmiennych określoną na przedziale,\n",
    "możemy zdefiniować dla niego momenty jako w odpowiedni sposób ważone średnie intensywności pikseli.\n",
    "\n",
    "Oznaczając obraz jako funkcję $I(x,y)$, moment rzędu $(i,j)$ definiujemy jako:\n",
    "\n",
    "$$M_{ij} = \\sum_{x} \\sum_{y} x^i y^j I(x,y)$$\n",
    "\n",
    "$M_{00}$ można interpretować jako pole powierzchni obiektu (przy założeniu, że całkujemy obraz **binarny**!), a z momentów pierwszego rzędu łatwo wyliczyć jego środek ciężkości: $\\{\\bar{x},\\bar{y}\\}=\\{\\frac{M_{10}}{M_{00}},\\frac{M_{01}}{M_{00}}\\}$.\n",
    "O znaczeniach pozostałych momentów, momentach centralnych i niezmiennikach momentów przeczytać możesz choćby na [Wikipedii](https://en.wikipedia.org/wiki/Image_moment).\n",
    "\n",
    "Momenty można wyliczyć zarówno dla reprezentacji rastrowej jak i wektorowej obrazu.\n",
    "Detekcja konturów jest o tyle istotna, że pozwala obliczyć te wartości dla wybranych obiektów, zamiast dla całej powierzchni obrazu (ponadto, obliczenie jest z reguły szybsze dla postaci konturowej niż rastrowej).\n",
    "Niezależnie od postaci danych wejściowych, momenty obliczamy w OpenCV za pomocą funkcji [`cv2.moments`](https://docs.opencv.org/4.x/d3/dc0/group__imgproc__shape.html#ga556a180f43cab22649c23ada36a8a139).\n",
    "W implementacji pythonowej zwraca ona słownik owijający obiekt C++ [`cv::Moments`](https://docs.opencv.org/4.x/d3/dc0/group__imgproc__shape.html#ga556a180f43cab22649c23ada36a8a139) - w dokumentacji znajdziesz więcej szczegółów odnośnie zawartości."
   ]
  },
  {
   "cell_type": "code",
   "execution_count": 1,
   "id": "22f9fba9",
   "metadata": {},
   "outputs": [],
   "source": [
    "import cv2\n",
    "import numpy as np\n",
    "import matplotlib.pyplot as plt"
   ]
  },
  {
   "cell_type": "code",
   "execution_count": 2,
   "id": "ff7aec1a",
   "metadata": {},
   "outputs": [
    {
     "data": {
      "text/plain": [
       "<matplotlib.image.AxesImage at 0x7ff09dfac910>"
      ]
     },
     "execution_count": 2,
     "metadata": {},
     "output_type": "execute_result"
    },
    {
     "data": {
      "image/png": "[encoded data removed]",
      "text/plain": [
       "<Figure size 432x288 with 1 Axes>"
      ]
     },
     "metadata": {
      "needs_background": "light"
     },
     "output_type": "display_data"
    }
   ],
   "source": [
    "img = np.zeros((600, 800), dtype=np.uint8)\n",
    "cv2.circle(img, center=(150, 250), radius=80, color=255, thickness=-1)\n",
    "cv2.circle(img, center=(400, 400), radius=40, color=255, thickness=-1)\n",
    "cv2.ellipse(img, center=(600, 400), axes=(40, 95), angle=60, startAngle=0, endAngle=360, color=255, thickness=-1)\n",
    "cv2.rectangle(img, pt1=(600, 100), pt2=(700, 200), color=255, thickness=-1)\n",
    "cv2.circle(img, center=(400, 200), radius=60, color=255, thickness=-1)\n",
    "cv2.ellipse(img, center=(350, 170), axes=(40, 60), angle=120, startAngle=0, endAngle=360, color=0, thickness=-1)\n",
    "plt.imshow(img, cmap='gray')"
   ]
  },
  {
   "cell_type": "code",
   "execution_count": 3,
   "id": "b9fc0605",
   "metadata": {},
   "outputs": [],
   "source": [
    "conts, _ = cv2.findContours(img, mode=cv2.RETR_EXTERNAL, method=cv2.CHAIN_APPROX_SIMPLE)"
   ]
  },
  {
   "cell_type": "code",
   "execution_count": 4,
   "id": "310afb76",
   "metadata": {},
   "outputs": [],
   "source": [
    "moments = [cv2.moments(c) for c in conts]"
   ]
  },
  {
   "cell_type": "code",
   "execution_count": 5,
   "id": "e33c7feb",
   "metadata": {},
   "outputs": [
    {
     "data": {
      "text/plain": [
       "{'m00': 11926.0,\n",
       " 'm10': 7155781.5,\n",
       " 'm01': 4770329.166666666,\n",
       " 'm20': 4314939766.833333,\n",
       " 'm11': 2852688677.9166665,\n",
       " 'm02': 1918398670.5,\n",
       " 'm30': 2614664005858.75,\n",
       " 'm21': 1714453085914.4666,\n",
       " 'm12': 1143402904965.6667,\n",
       " 'm03': 775584255846.65,\n",
       " 'mu20': 21361964.071111202,\n",
       " 'mu11': -9581421.005331516,\n",
       " 'mu02': 10295336.745959282,\n",
       " 'mu30': -529754.8442382812,\n",
       " 'mu21': 804194.8969678879,\n",
       " 'mu12': -470166.7167644501,\n",
       " 'mu03': 34691.148193359375,\n",
       " 'nu20': 0.1501936495295195,\n",
       " 'nu11': -0.0673659305707596,\n",
       " 'nu02': 0.07238539461369656,\n",
       " 'nu30': -3.410656044600222e-05,\n",
       " 'nu21': 5.1775499860204516e-05,\n",
       " 'nu12': -3.027017066371989e-05,\n",
       " 'nu03': 2.2334779108991712e-06}"
      ]
     },
     "execution_count": 5,
     "metadata": {},
     "output_type": "execute_result"
    }
   ],
   "source": [
    "m = moments[1]\n",
    "m"
   ]
  },
  {
   "cell_type": "code",
   "execution_count": 6,
   "id": "89df229b",
   "metadata": {},
   "outputs": [
    {
     "name": "stdout",
     "output_type": "stream",
     "text": [
      "600.0152188495723 399.9940605958969\n"
     ]
    }
   ],
   "source": [
    "print(m['m10']/m['m00'], m['m01']/m['m00'])"
   ]
  },
  {
   "cell_type": "code",
   "execution_count": 7,
   "id": "7048fd5c",
   "metadata": {},
   "outputs": [
    {
     "name": "stdout",
     "output_type": "stream",
     "text": [
      "0.0\n",
      "-9581421.005331516\n",
      "0.0\n",
      "-2041284.1810604334\n",
      "0.0\n"
     ]
    }
   ],
   "source": [
    "for _ in moments:\n",
    "  print(_['mu11'])\n"
   ]
  },
  {
   "cell_type": "markdown",
   "id": "79f58180",
   "metadata": {},
   "source": [
    "Uzyskane w ten sposób wielkości mogą posłużyć jako cechy do dalszego przetwarzania, np. z użyciem technik uczenia maszynowego.\n",
    "\n",
    "---\n",
    "\n",
    "Inne przydatne operacje na konturach obejmują m.in. testowanie/naprawianie wypukłości czy znajdowanie minimalnego prostokąta opisującego:"
   ]
  },
  {
   "cell_type": "code",
   "execution_count": 8,
   "id": "42d8790b",
   "metadata": {},
   "outputs": [
    {
     "data": {
      "text/plain": [
       "<matplotlib.image.AxesImage at 0x7ff098646460>"
      ]
     },
     "execution_count": 8,
     "metadata": {},
     "output_type": "execute_result"
    },
    {
     "data": {
      "image/png": "[encoded data removed]",
      "text/plain": [
       "<Figure size 432x288 with 1 Axes>"
      ]
     },
     "metadata": {
      "needs_background": "light"
     },
     "output_type": "display_data"
    }
   ],
   "source": [
    "display = np.zeros_like(img)\n",
    "cv2.drawContours(display, conts, 3, color=160, thickness=3)\n",
    "plt.imshow(display, cmap='gray', vmax=255)"
   ]
  },
  {
   "cell_type": "code",
   "execution_count": 9,
   "id": "c40cdb0e",
   "metadata": {},
   "outputs": [
    {
     "data": {
      "text/plain": [
       "False"
      ]
     },
     "execution_count": 9,
     "metadata": {},
     "output_type": "execute_result"
    }
   ],
   "source": [
    "cv2.isContourConvex(conts[3])"
   ]
  },
  {
   "cell_type": "code",
   "execution_count": 10,
   "id": "3fbc82b7",
   "metadata": {},
   "outputs": [
    {
     "data": {
      "text/plain": [
       "<matplotlib.image.AxesImage at 0x7ff0985b2520>"
      ]
     },
     "execution_count": 10,
     "metadata": {},
     "output_type": "execute_result"
    },
    {
     "data": {
      "image/png": "[encoded data removed]",
      "text/plain": [
       "<Figure size 432x288 with 1 Axes>"
      ]
     },
     "metadata": {
      "needs_background": "light"
     },
     "output_type": "display_data"
    }
   ],
   "source": [
    "hull = cv2.convexHull(conts[3])\n",
    "cv2.drawContours(display, [hull], 0, color=255, thickness=2)\n",
    "plt.imshow(display, cmap='gray', vmax=255)"
   ]
  },
  {
   "cell_type": "code",
   "execution_count": 11,
   "id": "72ccffd2",
   "metadata": {},
   "outputs": [
    {
     "data": {
      "text/plain": [
       "((406.935302734375, 204.12098693847656),\n",
       " (103.59812927246094, 119.73277282714844),\n",
       " 30.718902587890625)"
      ]
     },
     "execution_count": 11,
     "metadata": {},
     "output_type": "execute_result"
    }
   ],
   "source": [
    "minRect = cv2.minAreaRect(conts[3])\n",
    "minRect # zwróć uwagę na format wyniku: ((x, y), (w, h), kąt)"
   ]
  },
  {
   "cell_type": "code",
   "execution_count": 12,
   "id": "4adec109",
   "metadata": {},
   "outputs": [
    {
     "data": {
      "text/plain": [
       "<matplotlib.image.AxesImage at 0x7ff09859d5b0>"
      ]
     },
     "execution_count": 12,
     "metadata": {},
     "output_type": "execute_result"
    },
    {
     "data": {
      "image/png": "[encoded data removed]",
      "text/plain": [
       "<Figure size 432x288 with 1 Axes>"
      ]
     },
     "metadata": {
      "needs_background": "light"
     },
     "output_type": "display_data"
    }
   ],
   "source": [
    "# do narysowania prostokąta potrzebne są jego punkty brzegowe (cv2.boxPoints)\n",
    "# zwróć uwagę na rzutowanie do odpowiedniego typu - just OpenCV things\n",
    "cv2.drawContours(display, [cv2.boxPoints(minRect).astype(np.int32)], 0, color=100, thickness=2)\n",
    "plt.imshow(display, cmap='gray', vmax=255)"
   ]
  }
 ],
 "metadata": {
  "kernelspec": {
   "display_name": "Python 3 (ipykernel)",
   "language": "python",
   "name": "python3"
  },
  "language_info": {
   "codemirror_mode": {
    "name": "ipython",
    "version": 3
   },
   "file_extension": ".py",
   "mimetype": "text/x-python",
   "name": "python",
   "nbconvert_exporter": "python",
   "pygments_lexer": "ipython3",
   "version": "3.9.5"
  }
 },
 "nbformat": 4,
 "nbformat_minor": 5
}
